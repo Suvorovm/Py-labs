{
 "cells": [
  {
   "cell_type": "markdown",
   "metadata": {
    "collapsed": true,
    "pycharm": {
     "name": "#%% md\n"
    }
   },
   "source": [
    "# Лабораторная работа 1. Введение в цифровую обработку изображений.\n",
    "\n",
    "В этой работе рассматриваются базовые операции линейной алгебры, NumPy и OpenCV.\n",
    "\n",
    "Цель лабораторной работы: получить навыки работы с линейной алгеброй и базовыми операциями с изображениями в Python.\n",
    "\n",
    "\n",
    "#\n",
    "\n",
    "Настроим Jupyter на отображение полного интерактивного вывода:\n",
    "\n",
    "#\n",
    "\n",
    "from IPython.core.interactiveshell import InteractiveShell\n",
    "\n",
    "InteractiveShell.ast_node_interactivity = \"all\""
   ]
  },
  {
   "cell_type": "markdown",
   "metadata": {},
   "source": [
    "# 1. NumPy\n",
    "\n",
    "NumPy -- библиотека, предоставляющая реализации алгоритмов, оптимизированных для работы с многомерными массивами. NumPy основан на библиотеке LAPACK, что делает вычисления быстрыми.\n",
    "\n",
    "Кроме базового варианта (многомерные массивы в базовом варианте) NumPy включает в себя набор пакетов для решения специализированных задач, например:\n",
    "\n",
    "- numpy.linalg — реализует операции линейной алгебры (простое умножение векторов и матриц есть в базовом варианте);\n",
    "- numpy.random — реализует функции для работы со случайными величинами.\n",
    "\n",
    "NumPy Array vs Python List:\n",
    "- NumPy быстрее чем обычные списки в случаях, когда операции могут быть векторизованы.\n",
    "- Добавление элементов в существующий массив медленнее в NumPy, по сравнению с Python List. Операция добавления элемента в массив NumPy имеет сложность O(N), а в Python List -- O(1).\n",
    "- Массивы NumPy могут работать с элементами только одного типа.\n",
    "\n",
    "Документацию по NumPy можно найти [здесь](https://numpy.org/devdocs/reference/index.html#reference)"
   ]
  },
  {
   "cell_type": "markdown",
   "source": [
    "## 1.1 Установка и подключение библиотеки\n",
    "Для установки библиотеки NumPy выполнить команду ниже. Восклицательный знак позволяет выполнять команды терминала в Jupyter Notebook. Для выполнения команды в терминале восклицательный знак нужно убрать.\n"
   ],
   "metadata": {
    "collapsed": false
   }
  },
  {
   "cell_type": "code",
   "execution_count": 41,
   "outputs": [
    {
     "name": "stdout",
     "output_type": "stream",
     "text": [
      "Requirement already satisfied: numpy in e:\\maga\\1.2\\env\\lib\\site-packages (1.24.4)\n"
     ]
    },
    {
     "name": "stderr",
     "output_type": "stream",
     "text": [
      "\n",
      "[notice] A new release of pip is available: 24.0 -> 24.2\n",
      "[notice] To update, run: python.exe -m pip install --upgrade pip\n"
     ]
    }
   ],
   "source": [
    "!pip3 install numpy"
   ],
   "metadata": {
    "collapsed": false,
    "pycharm": {
     "name": "#%%\n"
    },
    "ExecuteTime": {
     "end_time": "2024-09-03T15:49:10.266926200Z",
     "start_time": "2024-09-03T15:49:07.456695500Z"
    }
   }
  },
  {
   "cell_type": "markdown",
   "metadata": {},
   "source": [
    "### Подключение библиотеки в коде\n",
    "Для использования библиотеки NumPy сначала подключим ее."
   ]
  },
  {
   "cell_type": "code",
   "execution_count": 42,
   "metadata": {
    "pycharm": {
     "name": "#%%\n"
    },
    "ExecuteTime": {
     "end_time": "2024-09-03T15:49:10.266926200Z",
     "start_time": "2024-09-03T15:49:09.251354800Z"
    }
   },
   "outputs": [],
   "source": [
    "import numpy as np"
   ]
  },
  {
   "cell_type": "markdown",
   "metadata": {},
   "source": [
    "## 1.2 Создание массивов\n",
    "Существуют несколько способов создания массивов."
   ]
  },
  {
   "cell_type": "markdown",
   "source": [
    "### 1.2.1. Создание массива из списка\n",
    "\n",
    "**Создание векторов:**"
   ],
   "metadata": {
    "collapsed": false
   }
  },
  {
   "cell_type": "code",
   "execution_count": 43,
   "metadata": {
    "pycharm": {
     "name": "#%%\n"
    },
    "ExecuteTime": {
     "end_time": "2024-09-03T15:49:10.266926200Z",
     "start_time": "2024-09-03T15:49:09.266978Z"
    }
   },
   "outputs": [
    {
     "name": "stdout",
     "output_type": "stream",
     "text": [
      "[1 2 3]\n"
     ]
    }
   ],
   "source": [
    "a = np.array([1, 2, 3])  # int32 array\n",
    "b = np.array([1., 2., 3.])  # float64 array\n",
    "c = np.array([1, 2, 3], int)  # int32 array\n",
    "d = np.array([1, 2, 3], float)  # float64 array\n",
    "e = np.array([1, 2, 3], np.dtype('f'))  # float32 array\n",
    "print(a)"
   ]
  },
  {
   "cell_type": "markdown",
   "source": [
    " Больше про типы можно прочитать в [документации](https://numpy.org/doc/stable/reference/arrays.dtypes.html)."
   ],
   "metadata": {
    "collapsed": false
   }
  },
  {
   "cell_type": "markdown",
   "source": [
    "**Создание матриц:**"
   ],
   "metadata": {
    "collapsed": false,
    "pycharm": {
     "name": "#%% md\n"
    }
   }
  },
  {
   "cell_type": "code",
   "execution_count": 44,
   "outputs": [
    {
     "name": "stdout",
     "output_type": "stream",
     "text": [
      "[[1. 2. 3.]\n",
      " [4. 5. 6.]\n",
      " [7. 8. 9.]]\n"
     ]
    }
   ],
   "source": [
    "f = np.array([[1., 2., 3.],\n",
    "              [4., 5., 6.],\n",
    "              [7., 8., 9.]])\n",
    "print(f)"
   ],
   "metadata": {
    "collapsed": false,
    "pycharm": {
     "name": "#%%\n"
    },
    "ExecuteTime": {
     "end_time": "2024-09-03T15:49:10.266926200Z",
     "start_time": "2024-09-03T15:49:09.282601200Z"
    }
   }
  },
  {
   "cell_type": "markdown",
   "source": [
    "**Создание трехмерного массива:**"
   ],
   "metadata": {
    "collapsed": false
   }
  },
  {
   "cell_type": "code",
   "execution_count": 45,
   "outputs": [],
   "source": [
    "g = np.array([[[1, 2, 3],\n",
    "               [4, 5, 6],\n",
    "               [7, 8, 9]],\n",
    "              [[11, 12, 13],\n",
    "               [14, 15, 16],\n",
    "               [17, 18, 19]]])"
   ],
   "metadata": {
    "collapsed": false,
    "pycharm": {
     "name": "#%%\n"
    },
    "ExecuteTime": {
     "end_time": "2024-09-03T15:49:10.266926200Z",
     "start_time": "2024-09-03T15:49:09.298224500Z"
    }
   }
  },
  {
   "cell_type": "markdown",
   "source": [
    "Подобным образом в NumPy возможно создавать массивы больших размерностей."
   ],
   "metadata": {
    "collapsed": false,
    "pycharm": {
     "name": "#%% md\n"
    }
   }
  },
  {
   "cell_type": "markdown",
   "source": [
    "### 1.2.2. Создание пустых и заполненных значениями массивов\n",
    "\n",
    "Массивы NumPy не могут расширяться так, как это делает список Python, т.к. в конце массива не зарезервировано место для быстрого добавления. Поэтому обычной практикой является либо расширение списка Python и преобразование его в массив NumPy, либо предварительное выделение необходимого пространства с помощью `np.zeros` или `np.empty`."
   ],
   "metadata": {
    "collapsed": false
   }
  },
  {
   "cell_type": "code",
   "execution_count": 46,
   "outputs": [
    {
     "name": "stdout",
     "output_type": "stream",
     "text": [
      "[1 2 3]\n"
     ]
    }
   ],
   "source": [
    "a = np.zeros(3, int)  # нулевой одномерный массив размерности 3\n",
    "b = np.empty(3, int)  # пустой одномерный массив размерности 3\n",
    "c = np.ones(3)  # массив, заполненный единицами\n",
    "d = np.full(3, 7.)  # массив, заполненный значением 7\n",
    "\n",
    "e = np.zeros_like(a)  # создание нулевого массива, по размерности и типу совпадающего с 'a'\n",
    "f = np.empty_like(b)  # создание пустого массива, по размерности и типу совпадающего с 'b'\n",
    "g = np.ones_like(c)  # создание единичного массива, по размерности и типу совпадающего с 'c'\n",
    "h = np.full_like(d, 8)  # создание заполненного массива, по размерности и типу совпадающего с 'd'\n",
    "print(b)"
   ],
   "metadata": {
    "collapsed": false,
    "pycharm": {
     "name": "#%%\n"
    },
    "ExecuteTime": {
     "end_time": "2024-09-03T15:49:10.266926200Z",
     "start_time": "2024-09-03T15:49:09.313848400Z"
    }
   }
  },
  {
   "cell_type": "markdown",
   "source": [
    "Чтобы создать массив нужно указать две размерности при помощи кортежа (в скобках):"
   ],
   "metadata": {
    "collapsed": false,
    "pycharm": {
     "name": "#%% md\n"
    }
   }
  },
  {
   "cell_type": "code",
   "execution_count": 47,
   "outputs": [
    {
     "name": "stdout",
     "output_type": "stream",
     "text": [
      "[[1. 1.]\n",
      " [1. 1.]\n",
      " [1. 1.]]\n"
     ]
    }
   ],
   "source": [
    "k = np.ones((3, 2))\n",
    "print(k)"
   ],
   "metadata": {
    "collapsed": false,
    "pycharm": {
     "name": "#%%\n"
    },
    "ExecuteTime": {
     "end_time": "2024-09-03T15:49:10.266926200Z",
     "start_time": "2024-09-03T15:49:09.329471300Z"
    }
   }
  },
  {
   "cell_type": "markdown",
   "source": [
    "Подобным образом, с матрицами работают методы np.zeros(), np.empty(), np.full и их сопутствующие функции np.zeros_like(), np.empty_like(), np.ones_like(), np.full_like().\n",
    "\n",
    "Для создания единичной матрицы существует метод np.eye():"
   ],
   "metadata": {
    "collapsed": false,
    "pycharm": {
     "name": "#%% md\n"
    }
   }
  },
  {
   "cell_type": "code",
   "execution_count": 48,
   "outputs": [
    {
     "name": "stdout",
     "output_type": "stream",
     "text": [
      "[[1. 0. 0.]\n",
      " [0. 1. 0.]\n",
      " [0. 0. 1.]]\n"
     ]
    }
   ],
   "source": [
    "a = np.eye(3, 3)\n",
    "print(a)"
   ],
   "metadata": {
    "collapsed": false,
    "pycharm": {
     "name": "#%%\n"
    },
    "ExecuteTime": {
     "end_time": "2024-09-03T15:49:10.266926200Z",
     "start_time": "2024-09-03T15:49:09.345094200Z"
    }
   }
  },
  {
   "cell_type": "markdown",
   "source": [
    "**Инициализация массива последовательностью чисел** осуществляется методами `np.arange()` и `np.linspace()`.\n",
    "`np.arange(stop)` -- создает массив чисел с последовательностью от 0 до значения stop.\n",
    "`np.arange(start, stop)` -- создает массив чисел от значения start до значения stop.\n",
    "`np.arange(start, stop, step)` -- создает массив чисел от start до stop c шагом step.\n",
    "\n",
    "`np.linspace(start, stop, n)` -- создает массив размерности n со значениями от start до stop. Шаг последовательности вычисляется автоматически.\n"
   ],
   "metadata": {
    "collapsed": false
   }
  },
  {
   "cell_type": "code",
   "source": [
    "a = np.arange(6)\n",
    "b = np.arange(2, 6)\n",
    "c = np.linspace(0, 0.5, 6)\n",
    "\n",
    "print('a =', a)\n",
    "print('b =', b)\n",
    "print('c =', c)"
   ],
   "metadata": {
    "collapsed": false,
    "pycharm": {
     "name": "#%%\n"
    },
    "ExecuteTime": {
     "end_time": "2024-09-03T15:49:10.266926200Z",
     "start_time": "2024-09-03T15:49:09.360718Z"
    }
   },
   "execution_count": 49,
   "outputs": [
    {
     "name": "stdout",
     "output_type": "stream",
     "text": [
      "a = [0 1 2 3 4 5]\n",
      "b = [2 3 4 5]\n",
      "c = [0.  0.1 0.2 0.3 0.4 0.5]\n"
     ]
    }
   ]
  },
  {
   "cell_type": "markdown",
   "source": [
    "Также возможно создать массив, заполненный случайными значениями:\n",
    "`rnd = np.random.default_rng()` -- создание генератора\n",
    "`rnd.integers(min, max, n)` -- возвращает массив  размерности n случайных равномерно расспределенных целых чисел, где x ∈ [min, max).\n",
    "`rnd.integers(min, max, n, endpoint=True)` -- возвращает массив размерности n случайных равномерно расспределенных целых чисел, где x ∈ [min, max].\n",
    "`rnd.random(n)` -- возвращает массив размерности n случайных равномерно расспределенных вещественных чисел, где x ∈ [min, max).\n",
    "`rnd.uniform(min, max, n)` -- возвращает массив размерности n случайных равномерно расспределенных вещественных чисел, где x ∈ [min, max).\n",
    "`rnd.standard_normal(n)` -- возвращает массив размерности n случайных нормально распределенных вещественных чисел, где μ=0, σ=1.\n",
    "`rnd.normal(μ, σ, n)` -- возвращает массив размерности n случайных нормально распределенных вещественных чисел с заданными μ и σ.\n",
    "\n"
   ],
   "metadata": {
    "collapsed": false
   }
  },
  {
   "cell_type": "code",
   "execution_count": 50,
   "outputs": [],
   "source": [
    "rnd = np.random.default_rng()\n",
    "a = rnd.integers(0, 10, 3)\n",
    "b = rnd.integers(0, 10, 3, endpoint=True)\n",
    "c = rnd.random(3)\n",
    "d = rnd.uniform(1, 10, 3)\n",
    "e = rnd.standard_normal(3)\n",
    "f = rnd.normal(5, 2, 3)"
   ],
   "metadata": {
    "collapsed": false,
    "pycharm": {
     "name": "#%%\n"
    },
    "ExecuteTime": {
     "end_time": "2024-09-03T15:49:10.266926200Z",
     "start_time": "2024-09-03T15:49:09.376341Z"
    }
   }
  },
  {
   "cell_type": "markdown",
   "source": [
    "Аналогичным образом можно создать заполненную случайными числами матрицу. Размерность также указывается кортежем (в скобках):\n"
   ],
   "metadata": {
    "collapsed": false,
    "pycharm": {
     "name": "#%% md\n"
    }
   }
  },
  {
   "cell_type": "code",
   "execution_count": 51,
   "outputs": [],
   "source": [
    "rnd = np.random.default_rng()\n",
    "a = rnd.integers(0, 10, (3, 2))\n",
    "b = rnd.integers(0, 10, (3, 2), endpoint=True)\n",
    "c = rnd.random((3, 2))\n",
    "d = rnd.uniform(1, 10, (3, 2))\n",
    "e = rnd.standard_normal((3, 2))\n",
    "f = rnd.normal(5, 2, (3, 2))"
   ],
   "metadata": {
    "collapsed": false,
    "pycharm": {
     "name": "#%%\n"
    },
    "ExecuteTime": {
     "end_time": "2024-09-03T15:49:10.266926200Z",
     "start_time": "2024-09-03T15:49:09.391965Z"
    }
   }
  },
  {
   "cell_type": "markdown",
   "source": [
    "### 1.2.3 reshape() -- функция изменение формы массива\n",
    "\n",
    "функция reshape() позволяет преобразовать одномерный массив в двухмерный (в общем случае в n-мерный) и обратно.\n",
    "<img height=\"100\" src=\"../content/reshape.png\"/>"
   ],
   "metadata": {
    "collapsed": false
   }
  },
  {
   "cell_type": "code",
   "execution_count": 52,
   "outputs": [
    {
     "name": "stdout",
     "output_type": "stream",
     "text": [
      "a = \n",
      "[1 2 3 4 5 6]\n",
      "b =\n",
      "[[1 2 3]\n",
      " [4 5 6]]\n",
      "c =\n",
      "[[1 2 3]\n",
      " [4 5 6]]\n",
      "d =\n",
      "[1 2 3 4 5 6]\n"
     ]
    }
   ],
   "source": [
    "a = np.arange(1, 7)\n",
    "b = a.reshape(2, 3)\n",
    "c = a.reshape(2, -1)\n",
    "d = b.reshape(-1)\n",
    "\n",
    "print('a = ', a, sep='\\n')\n",
    "print('b =', b, sep='\\n')\n",
    "print('c =', c, sep='\\n')\n",
    "print('d =', d, sep='\\n')"
   ],
   "metadata": {
    "collapsed": false,
    "pycharm": {
     "name": "#%%\n"
    },
    "ExecuteTime": {
     "end_time": "2024-09-03T15:49:10.266926200Z",
     "start_time": "2024-09-03T15:49:09.407588100Z"
    }
   }
  },
  {
   "cell_type": "markdown",
   "source": [
    "## 1.3 Доступ к данным массива\n",
    "\n",
    "Обратиться к данным массива можно используя индексацию, в том числе используя срезы."
   ],
   "metadata": {
    "collapsed": false,
    "pycharm": {
     "name": "#%% md\n"
    }
   }
  },
  {
   "cell_type": "code",
   "execution_count": 53,
   "outputs": [
    {
     "name": "stdout",
     "output_type": "stream",
     "text": [
      "a = [1 2 3 4 5]\n",
      "a[1] = 2\n",
      "a[2:4] = [3 4]\n",
      "a[-2:] = [4 5]\n",
      "a[::2] = [1 3 5]\n",
      "a = [10  2  3  4  5]\n"
     ]
    }
   ],
   "source": [
    "a = np.arange(1, 6)\n",
    "print('a =', a)\n",
    "print('a[1] =', a[1])\n",
    "print('a[2:4] =', a[2:4])\n",
    "print('a[-2:] =', a[-2:])\n",
    "print('a[::2] =', a[::2])\n",
    "\n",
    "a[0] = 10  # запись в нулевую ячейку значения 10\n",
    "print('a =', a)"
   ],
   "metadata": {
    "collapsed": false,
    "pycharm": {
     "name": "#%%\n"
    },
    "ExecuteTime": {
     "end_time": "2024-09-03T15:49:10.266926200Z",
     "start_time": "2024-09-03T15:49:09.423269100Z"
    }
   }
  },
  {
   "cell_type": "markdown",
   "source": [
    "Также возможно использовать **булеву индексацию**:\n",
    "<img alt=\"boolean_indexing\" src=\"../content/boolean_indexing.png\" width=\"600\"/>"
   ],
   "metadata": {
    "collapsed": false,
    "pycharm": {
     "name": "#%% md\n"
    }
   }
  },
  {
   "cell_type": "code",
   "execution_count": 54,
   "outputs": [
    {
     "name": "stdout",
     "output_type": "stream",
     "text": [
      "a = [1 2 3 4 5 0 0 0 5 4 3 2 1]\n",
      "b = [1 2 0 0 0 6 7 6 0 0 0 2 1]\n"
     ]
    }
   ],
   "source": [
    "a = np.array([1, 2, 3, 4, 5, 6, 7, 6, 5, 4, 3, 2, 1])\n",
    "b = np.copy(a)\n",
    "a[a > 5] = 0\n",
    "b[(b >= 3) & (b <= 5)] = 0\n",
    "print('a =', a)\n",
    "print('b =', b)"
   ],
   "metadata": {
    "collapsed": false,
    "pycharm": {
     "name": "#%%\n"
    },
    "ExecuteTime": {
     "end_time": "2024-09-03T15:49:10.266926200Z",
     "start_time": "2024-09-03T15:49:09.438839800Z"
    }
   }
  },
  {
   "cell_type": "markdown",
   "source": [
    "Примеры **индексации элементов матриц**:\n",
    "\n",
    "<img height=\"250\" src=\"../content/martix_indexing.png\"/>"
   ],
   "metadata": {
    "collapsed": false,
    "pycharm": {
     "name": "#%% md\n"
    }
   }
  },
  {
   "cell_type": "code",
   "execution_count": 55,
   "outputs": [
    {
     "name": "stdout",
     "output_type": "stream",
     "text": [
      "a =\n",
      " [[ 1  2  3  4]\n",
      " [ 5  6  7  8]\n",
      " [ 9 10 11 12]]\n",
      "a[1,2] = 7\n",
      "a[1,:] = [5 6 7 8]\n",
      "a[1,2] = [ 3  7 11]\n",
      "a[:,1:3] =\n",
      " [[ 2  3]\n",
      " [ 6  7]\n",
      " [10 11]]\n",
      "a[-2:,-2:] =\n",
      " [[ 7  8]\n",
      " [11 12]]\n",
      "a[::2,1::2] =\n",
      " [[ 2  4]\n",
      " [10 12]]\n"
     ]
    }
   ],
   "source": [
    "a = np.arange(1, 13).reshape(3, 4)  # reshape изменяет размерность массива\n",
    "print('a =\\n', a)\n",
    "print('a[1,2] =', a[1, 2])\n",
    "print('a[1,:] =', a[1, :])\n",
    "print('a[1,2] =', a[:, 2])\n",
    "print('a[:,1:3] =\\n', a[:, 1:3])\n",
    "print('a[-2:,-2:] =\\n', a[-2:, -2:])\n",
    "print('a[::2,1::2] =\\n', a[::2, 1::2])"
   ],
   "metadata": {
    "collapsed": false,
    "pycharm": {
     "name": "#%%\n"
    },
    "ExecuteTime": {
     "end_time": "2024-09-03T15:49:10.266926200Z",
     "start_time": "2024-09-03T15:49:09.454458300Z"
    }
   }
  },
  {
   "cell_type": "markdown",
   "source": [
    "### 1.3.1. Копирование элементов массива\n",
    "Нужно помнить, что массив NumPy является объектом, а значит простое присвоение массива новой переменной копирует не значения массива, а ссылку на объект массива.\n",
    "Рассмотрим пример:"
   ],
   "metadata": {
    "collapsed": false,
    "pycharm": {
     "name": "#%% md\n"
    }
   }
  },
  {
   "cell_type": "code",
   "execution_count": 56,
   "outputs": [
    {
     "name": "stdout",
     "output_type": "stream",
     "text": [
      "a = [10  2  3]\n",
      "b = [10  2  3]\n"
     ]
    }
   ],
   "source": [
    "a = np.array([1, 2, 3])\n",
    "b = a  # здесь копируется не массив, а ссылка на него!\n",
    "b[0] = 10  # Теперь изменим первый элемент массива на значение 10 и выведем содержимое a и b.\n",
    "print('a =', a)\n",
    "print('b =', b)"
   ],
   "metadata": {
    "collapsed": false,
    "pycharm": {
     "name": "#%%\n"
    },
    "ExecuteTime": {
     "end_time": "2024-09-03T15:49:10.266926200Z",
     "start_time": "2024-09-03T15:49:09.470085800Z"
    }
   }
  },
  {
   "cell_type": "markdown",
   "source": [],
   "metadata": {
    "collapsed": false,
    "pycharm": {
     "name": "#%% md\n"
    }
   }
  },
  {
   "cell_type": "markdown",
   "source": [
    " Для копирования массива следует использовать метод **copy()**."
   ],
   "metadata": {
    "collapsed": false,
    "pycharm": {
     "name": "#%% md\n"
    }
   }
  },
  {
   "cell_type": "code",
   "execution_count": 57,
   "outputs": [
    {
     "name": "stdout",
     "output_type": "stream",
     "text": [
      "a = [1 2 3]\n",
      "b = [10  2  3]\n"
     ]
    }
   ],
   "source": [
    "a = np.array([1, 2, 3])\n",
    "b = a.copy()\n",
    "b[0] = 10\n",
    "print('a =', a)\n",
    "print('b =', b)"
   ],
   "metadata": {
    "collapsed": false,
    "pycharm": {
     "name": "#%%\n"
    },
    "ExecuteTime": {
     "end_time": "2024-09-03T15:49:10.266926200Z",
     "start_time": "2024-09-03T15:49:09.485715100Z"
    }
   }
  },
  {
   "cell_type": "markdown",
   "source": [
    "### 1.3.2 Вставка и добавление элементов массива\n",
    "Для вставки и добавления элементов массива следует использовать методы `insert()` и `append()`"
   ],
   "metadata": {
    "collapsed": false,
    "pycharm": {
     "name": "#%% md\n"
    }
   }
  },
  {
   "cell_type": "code",
   "execution_count": 58,
   "outputs": [
    {
     "name": "stdout",
     "output_type": "stream",
     "text": [
      "b = [1 4 5 6 2 3]\n",
      "c = [1 2 3 4 5 6]\n"
     ]
    }
   ],
   "source": [
    "a = np.array([1, 2, 3])\n",
    "b = np.insert(a, 1, [4, 5, 6])\n",
    "c = np.append(a, [4, 5, 6])\n",
    "print('b =', b)\n",
    "print('c =', c)"
   ],
   "metadata": {
    "collapsed": false,
    "pycharm": {
     "name": "#%%\n"
    },
    "ExecuteTime": {
     "end_time": "2024-09-03T15:49:10.266926200Z",
     "start_time": "2024-09-03T15:49:09.501334900Z"
    }
   }
  },
  {
   "cell_type": "markdown",
   "source": [
    "## 1.4 Векторные операции\n",
    "NumPy позволяет осуществлять векторные операции, т.е. арифметические, логические операции между вектором (массивом) и числом или двумя векторами, а также операции векторной алгебры.\n",
    "\n",
    "### 1.4.1 Операции над вектором и числом"
   ],
   "metadata": {
    "collapsed": false
   }
  },
  {
   "cell_type": "code",
   "execution_count": 59,
   "outputs": [
    {
     "name": "stdout",
     "output_type": "stream",
     "text": [
      "a + b = [4 5 6]\n",
      "a - b = [-2 -1  0]\n",
      "a * b = [3 6 9]\n",
      "a / b = [0.33333333 0.66666667 1.        ]\n",
      "a // b = [0 0 1]\n"
     ]
    }
   ],
   "source": [
    "a = np.array([1, 2, 3])\n",
    "b = 3\n",
    "\n",
    "print('a + b =', a + b)\n",
    "print('a - b =', a - b)\n",
    "print('a * b =', a * b)\n",
    "print('a / b =', a / b)\n",
    "print('a // b =', a // b)\n"
   ],
   "metadata": {
    "collapsed": false,
    "pycharm": {
     "name": "#%%\n"
    },
    "ExecuteTime": {
     "end_time": "2024-09-03T15:49:10.266926200Z",
     "start_time": "2024-09-03T15:49:09.516957400Z"
    }
   }
  },
  {
   "cell_type": "markdown",
   "source": [
    "### 1.4.2. Операции над векторами"
   ],
   "metadata": {
    "collapsed": false
   }
  },
  {
   "cell_type": "code",
   "execution_count": 60,
   "outputs": [
    {
     "name": "stdout",
     "output_type": "stream",
     "text": [
      "a + b = [5 7 9]\n",
      "a - b = [-3 -3 -3]\n",
      "a * b = [ 4 10 18]\n",
      "a / b = [0.25 0.4  0.5 ]\n",
      "a // b = [0 0 0]\n"
     ]
    }
   ],
   "source": [
    "a = np.array([1, 2, 3])\n",
    "b = np.array([4, 5, 6])\n",
    "\n",
    "print('a + b =', a + b)\n",
    "print('a - b =', a - b)\n",
    "print('a * b =', a * b)\n",
    "print('a / b =', a / b)\n",
    "print('a // b =', a // b)"
   ],
   "metadata": {
    "collapsed": false,
    "pycharm": {
     "name": "#%%\n"
    },
    "ExecuteTime": {
     "end_time": "2024-09-03T15:49:10.266926200Z",
     "start_time": "2024-09-03T15:49:09.532581300Z"
    }
   }
  },
  {
   "cell_type": "markdown",
   "source": [
    "### 1.4.3 Математические функции над векторами"
   ],
   "metadata": {
    "collapsed": false,
    "pycharm": {
     "name": "#%% md\n"
    }
   }
  },
  {
   "cell_type": "code",
   "execution_count": 61,
   "outputs": [
    {
     "name": "stdout",
     "output_type": "stream",
     "text": [
      "a^2 = [1 4 9]\n",
      "√a = [1.         1.41421356 1.73205081]\n",
      "e^a = [ 2.71828183  7.3890561  20.08553692]\n",
      "ln(a) = [0.         0.69314718 1.09861229]\n",
      "sin(a) = [0.84147098 0.90929743 0.14112001]\n"
     ]
    }
   ],
   "source": [
    "a = np.array([1, 2, 3])\n",
    "\n",
    "print('a^2 =', a ** 2)\n",
    "print('√a =', np.sqrt(a))\n",
    "print('e^a =', np.exp(a))\n",
    "print('ln(a) =', np.log(a))\n",
    "print('sin(a) =', np.sin(a))"
   ],
   "metadata": {
    "collapsed": false,
    "pycharm": {
     "name": "#%%\n"
    },
    "ExecuteTime": {
     "end_time": "2024-09-03T15:49:10.266926200Z",
     "start_time": "2024-09-03T15:49:09.548203100Z"
    }
   }
  },
  {
   "cell_type": "markdown",
   "source": [
    "### 1.4.4. Векторные операции"
   ],
   "metadata": {
    "collapsed": false,
    "pycharm": {
     "name": "#%% md\n"
    }
   }
  },
  {
   "cell_type": "code",
   "execution_count": 62,
   "outputs": [
    {
     "name": "stdout",
     "output_type": "stream",
     "text": [
      "a∙b = 11\n",
      "a⨉b = -2\n"
     ]
    }
   ],
   "source": [
    "a = np.array([1, 2])\n",
    "b = np.array([3, 4])\n",
    "\n",
    "print('a∙b =', np.dot(a, b))\n",
    "print('a⨉b =', np.cross(a, b))"
   ],
   "metadata": {
    "collapsed": false,
    "pycharm": {
     "name": "#%%\n"
    },
    "ExecuteTime": {
     "end_time": "2024-09-03T15:49:10.266926200Z",
     "start_time": "2024-09-03T15:49:09.563827400Z"
    }
   }
  },
  {
   "cell_type": "markdown",
   "source": [
    "### 1.4.5 Иные функции над векторами\n",
    "К векторам также возможно применение функций:\n",
    "- округления: np.floor(), np.ceil(), np.round();\n",
    "- статистики: np.max(), np.min(), np.sum(), np.mean(), np.std() и др.;\n",
    "- сортировки: np.sort();\n",
    "- поиска: np.where();\n",
    "- сравнения вещественных чисел: np.allclose(), np.isclose()\n",
    "\n",
    "**Добавьте примеры использования этих функций самостоятельно**."
   ],
   "metadata": {
    "collapsed": false,
    "pycharm": {
     "name": "#%% md\n"
    }
   }
  },
  {
   "cell_type": "markdown",
   "source": [
    "## 1.5 Матричные операции\n",
    "NumPy позволяет осуществлять также и матричные операции.\n",
    "Среди ни нужно отметить следующие:\n",
    "A * B -- операция поэлементного умножения;\n",
    "A @ B -- операция матричного умножения;\n",
    "A / B -- операция матричного деления."
   ],
   "metadata": {
    "collapsed": false,
    "pycharm": {
     "name": "#%% md\n"
    }
   }
  },
  {
   "cell_type": "code",
   "execution_count": 63,
   "outputs": [
    {
     "name": "stdout",
     "output_type": "stream",
     "text": [
      "b + a =\n",
      "[[3 2]\n",
      " [3 6]]\n",
      "b - a =\n",
      "[[ 1 -2]\n",
      " [-3 -2]]\n",
      "b * a =\n",
      "[[2 0]\n",
      " [0 8]]\n",
      "b @ a =\n",
      "[[2 4]\n",
      " [6 8]]\n",
      "b / a =\n",
      "[[2.  0. ]\n",
      " [0.  0.5]]\n",
      "b // a =\n",
      "[[2 0]\n",
      " [0 0]]\n"
     ]
    }
   ],
   "source": [
    "a = np.array([[1, 2], [3, 4]])\n",
    "b = np.array([[2, 0], [0, 2]])\n",
    "\n",
    "print('b + a =', b + a, sep='\\n')\n",
    "print('b - a =', b - a, sep='\\n')\n",
    "print('b * a =', b * a, sep='\\n')\n",
    "print('b @ a =', b @ a, sep='\\n')\n",
    "print('b / a =', b / a, sep='\\n')\n",
    "print('b // a =', b // a, sep='\\n')"
   ],
   "metadata": {
    "collapsed": false,
    "pycharm": {
     "name": "#%%\n"
    },
    "ExecuteTime": {
     "end_time": "2024-09-03T15:49:10.266926200Z",
     "start_time": "2024-09-03T15:49:09.579457Z"
    }
   }
  },
  {
   "cell_type": "markdown",
   "source": [
    "### 1.5.1 Транспонирование\n",
    "Транспонирование матрицы осуществляется двумя способами:\n",
    "a.transpose() или a.T\n",
    "\n",
    "**Транспонирование векторов работает иначе**. Если попробовать применить транспонирование, например, к вектору-строке:\n",
    "    `a = np.array([1, 2, 3])`\n",
    "    `a.T`\n",
    "то ничено не изменится. Вектор, как был строкой, так строкой и остался. Это происходит потому, что массив `a` имеет только одну размерность.\n",
    "Самым простым способом транспонирования, является смена размерности:\n",
    "`a.reshape(-1, 1)`\n",
    "здесь -1 -- говорит NumPy вычислять размер автоматически\n",
    "\n"
   ],
   "metadata": {
    "collapsed": false
   }
  },
  {
   "cell_type": "code",
   "execution_count": 64,
   "outputs": [
    {
     "name": "stdout",
     "output_type": "stream",
     "text": [
      "[[1]\n",
      " [2]\n",
      " [3]]\n",
      "a * b =\n",
      " [[1 2 3]\n",
      " [2 4 6]\n",
      " [3 6 9]]\n"
     ]
    }
   ],
   "source": [
    "a = np.array([1, 2, 3])\n",
    "b = a.reshape(-1, 1)\n",
    "print(b)\n",
    "print('a * b =\\n', a * b)"
   ],
   "metadata": {
    "collapsed": false,
    "pycharm": {
     "name": "#%%\n"
    },
    "ExecuteTime": {
     "end_time": "2024-09-03T15:49:10.266926200Z",
     "start_time": "2024-09-03T15:49:09.595072800Z"
    }
   }
  },
  {
   "cell_type": "markdown",
   "source": [
    "### 1.5.2 Смешанные операции между вектором и матрицей\n",
    "NumPy также допускает смешанные операции между вектором и матрицей\n",
    "<img height=\"300\" src=\"../content/some_matrix_op.png\"/>\n"
   ],
   "metadata": {
    "collapsed": false
   }
  },
  {
   "cell_type": "code",
   "execution_count": 65,
   "outputs": [
    {
     "name": "stdout",
     "output_type": "stream",
     "text": [
      "a / 9 =\n",
      "[[0.11111111 0.22222222 0.33333333]\n",
      " [0.44444444 0.55555556 0.66666667]\n",
      " [0.77777778 0.88888889 1.        ]]\n",
      "a * [-1,0,1] =\n",
      "[[-1  0  3]\n",
      " [-4  0  6]\n",
      " [-7  0  9]]\n",
      "a / [3 6 9]T =\n",
      "[[0.33333333 0.66666667 1.        ]\n",
      " [0.66666667 0.83333333 1.        ]\n",
      " [0.77777778 0.88888889 1.        ]]\n",
      "[1 2 3] * [1 2 3]T =\n",
      "[[1 2 3]\n",
      " [2 4 6]\n",
      " [3 6 9]]\n",
      "c = \n",
      " [[1 2 3]\n",
      " [2 4 6]\n",
      " [3 6 9]]\n"
     ]
    }
   ],
   "source": [
    "a = np.arange(1, 10).reshape(3, 3)\n",
    "print('a / 9 =', a / 9, sep='\\n')\n",
    "print('a * [-1,0,1] =', a * np.array([-1, 0, 1]), sep='\\n')\n",
    "b = a / (np.array([3, 6, 9]).reshape(-1, 1))\n",
    "print('a / [3 6 9]T =', b, sep='\\n')\n",
    "print('[1 2 3] * [1 2 3]T =', np.array([1, 2, 3] * np.array([1, 2, 3]).reshape(-1, 1)), sep='\\n')\n",
    "c = np.array([1, 2, 3]).reshape(-1, 1) * np.array([1, 2, 3])\n",
    "print('c = \\n', c)\n",
    "# print(a / np.array([1, [3, 6, 9]]))"
   ],
   "metadata": {
    "collapsed": false,
    "pycharm": {
     "name": "#%%\n"
    },
    "ExecuteTime": {
     "end_time": "2024-09-03T15:49:10.266926200Z",
     "start_time": "2024-09-03T15:49:09.610697900Z"
    }
   }
  },
  {
   "cell_type": "markdown",
   "source": [
    "### 1.5.3 Манипуляции над матрицами"
   ],
   "metadata": {
    "collapsed": false
   }
  },
  {
   "cell_type": "markdown",
   "source": [
    "#### 1.5.3.1 Функции объединения массивов\n",
    "<img height=\"300\" src=\"../content/union_matrix.png\"/>"
   ],
   "metadata": {
    "collapsed": false
   }
  },
  {
   "cell_type": "code",
   "execution_count": 66,
   "outputs": [
    {
     "name": "stdout",
     "output_type": "stream",
     "text": [
      "vstack((a,b)) =\n",
      "[[ 1  2  3  4]\n",
      " [ 5  6  7  8]\n",
      " [ 9 10 11 12]\n",
      " [ 1  2  3  4]\n",
      " [ 5  6  7  8]]\n",
      "hstack((a,c)) =\n",
      "[[ 1  2  3  4  1  2]\n",
      " [ 5  6  7  8  3  4]\n",
      " [ 9 10 11 12  5  6]]\n"
     ]
    }
   ],
   "source": [
    "a = np.arange(1, 13).reshape(3, -1)\n",
    "b = np.arange(1, 9).reshape(2, -1)\n",
    "c = np.arange(1, 7).reshape(3, -1)\n",
    "print('vstack((a,b)) =', np.vstack((a, b)), sep='\\n')\n",
    "print('hstack((a,c)) =', np.hstack((a, c)), sep='\\n')"
   ],
   "metadata": {
    "collapsed": false,
    "pycharm": {
     "name": "#%%\n"
    },
    "ExecuteTime": {
     "end_time": "2024-09-03T15:49:10.266926200Z",
     "start_time": "2024-09-03T15:49:09.626320300Z"
    }
   }
  },
  {
   "cell_type": "markdown",
   "source": [
    "**Функции объединения матрицы с векторами:**\n",
    "\n",
    "<img height=\"300\" src=\"../content/union_matrix_and_vector.png\"/>\n",
    "\n",
    "Здесь нужно быть внимательным и помнить, что при операции hstack нужно создать именно вектор-стобец, добавив вторую размерность при помощи метода reshape(-1,1) или c[:, None]. Если нужно использовать именно вектор-строку, то вместо метода hstack() нужно использовать метод column_stack().\n"
   ],
   "metadata": {
    "collapsed": false,
    "pycharm": {
     "name": "#%% md\n"
    }
   }
  },
  {
   "cell_type": "code",
   "execution_count": 67,
   "outputs": [
    {
     "name": "stdout",
     "output_type": "stream",
     "text": [
      "vstack((a,b)) =\n",
      "[[ 1  2  3  4]\n",
      " [ 5  6  7  8]\n",
      " [ 9 10 11 12]\n",
      " [ 1  2  3  4]]\n",
      "hstack((a,c)) =\n",
      "[[ 1  2  3  4  1]\n",
      " [ 5  6  7  8  3]\n",
      " [ 9 10 11 12  5]]\n"
     ]
    }
   ],
   "source": [
    "a = np.arange(1, 13).reshape(3, -1)\n",
    "b = np.arange(1, 5)\n",
    "c = np.array([1, 3, 5])\n",
    "print('vstack((a,b)) =', np.vstack((a, b)), sep='\\n')\n",
    "print('hstack((a,c)) =', np.hstack((a, c[:, None])), sep='\\n')"
   ],
   "metadata": {
    "collapsed": false,
    "pycharm": {
     "name": "#%%\n"
    },
    "ExecuteTime": {
     "end_time": "2024-09-03T15:49:10.266926200Z",
     "start_time": "2024-09-03T15:49:09.641942600Z"
    }
   }
  },
  {
   "cell_type": "markdown",
   "source": [
    "#### 1.5.3.2 Функции расщепления массивов\n",
    "Обратной операцией объединения массивов (векторов) является операция расщепления массивов (методы `hsplit()` и `vsplit()`)."
   ],
   "metadata": {
    "collapsed": false
   }
  },
  {
   "cell_type": "code",
   "execution_count": 68,
   "outputs": [
    {
     "name": "stdout",
     "output_type": "stream",
     "text": [
      "vsplit(d,[3])) =\n",
      "[array([[ 1,  2,  3,  4],\n",
      "       [ 5,  6,  7,  8],\n",
      "       [ 9, 10, 11, 12]]), array([[1, 2, 3, 4],\n",
      "       [5, 6, 7, 8]])]\n",
      "hsplit((e,[4]])) =\n",
      "[array([[ 1,  2,  3,  4],\n",
      "       [ 5,  6,  7,  8],\n",
      "       [ 9, 10, 11, 12]]), array([[1, 2],\n",
      "       [3, 4],\n",
      "       [5, 6]])]\n"
     ]
    }
   ],
   "source": [
    "a = np.arange(1, 13).reshape(3, -1)\n",
    "b = np.arange(1, 9).reshape(2, -1)\n",
    "c = np.arange(1, 7).reshape(3, -1)\n",
    "d = np.vstack((a, b))\n",
    "e = np.hstack((a, c))\n",
    "print('vsplit(d,[3])) =', np.vsplit(d, [3]), sep='\\n')\n",
    "print('hsplit((e,[4]])) =', np.hsplit(e, [4]), sep='\\n')\n"
   ],
   "metadata": {
    "collapsed": false,
    "pycharm": {
     "name": "#%%\n"
    },
    "ExecuteTime": {
     "end_time": "2024-09-03T15:49:10.266926200Z",
     "start_time": "2024-09-03T15:49:09.657565700Z"
    }
   }
  },
  {
   "cell_type": "markdown",
   "source": [
    "#### 1.5.3.3 Иные операции манипуляции над массивами\n",
    "Существуют и другие операции манипуляций над массивами:\n",
    "- репликация матрицы (`np.tile()`, `np.repeat()`);\n",
    "- удаление столбцов и строк матрицы (`np.delete()`);\n",
    "- вставка столбцов и строк матрицы (`np.insert()`);\n",
    "- добавление столбцов и строк к матрице (`np.append()`);\n",
    "- добавление граничных значений к матрице (`np.pad()`).\n",
    "\n",
    "Рассмотрите и создайте примеры их использования самостоятельно."
   ],
   "metadata": {
    "collapsed": false
   }
  },
  {
   "cell_type": "markdown",
   "source": [
    "## 1.6 Сохранение и загрузка данных на диск"
   ],
   "metadata": {
    "collapsed": false
   }
  },
  {
   "cell_type": "markdown",
   "source": [
    "### 1.6.1 Сохранение и загрузка NumPy массивов\n",
    "\n",
    "Для сохранения массивов на накопитель в NumPy предусмотрен метод `np.savez(). Первым аргументом передается название файла. Последующими аргументами указываются данные в виде ключ-значение, где в качестве ключа указывается именование данных в файле, а значением -- имя переменной, хранящей данные."
   ],
   "metadata": {
    "collapsed": false
   }
  },
  {
   "cell_type": "code",
   "execution_count": 69,
   "outputs": [],
   "source": [
    "np.savez(\"mas.npz\", a=a, b=b)\n",
    "np.savez(\"mas2.npz\", nameOfVar1=a, nameOfVar2=b)"
   ],
   "metadata": {
    "collapsed": false,
    "pycharm": {
     "name": "#%%\n"
    },
    "ExecuteTime": {
     "end_time": "2024-09-03T15:49:10.266926200Z",
     "start_time": "2024-09-03T15:49:09.673190Z"
    }
   }
  },
  {
   "cell_type": "code",
   "execution_count": 70,
   "outputs": [],
   "source": [
    "# %reset_selective [a, b, c, d, e]\n",
    "%reset"
   ],
   "metadata": {
    "collapsed": false,
    "pycharm": {
     "name": "#%%\n"
    },
    "ExecuteTime": {
     "end_time": "2024-09-03T15:49:14.298175200Z",
     "start_time": "2024-09-03T15:49:09.688812800Z"
    }
   }
  },
  {
   "cell_type": "markdown",
   "source": [
    "Загрузка массивов осуществляется функцией np.load(), где в качестве аргумента передается имя файла."
   ],
   "metadata": {
    "collapsed": false
   }
  },
  {
   "cell_type": "code",
   "execution_count": 71,
   "outputs": [
    {
     "name": "stdout",
     "output_type": "stream",
     "text": [
      "['a', 'b']\n",
      "['nameOfVar1', 'nameOfVar2']\n"
     ]
    }
   ],
   "source": [
    "import numpy as np  #снова подключаем numpy\n",
    "\n",
    "loadMas = np.load(\"mas.npz\")\n",
    "loadMas2 = np.load(\"mas2.npz\")\n",
    "print(loadMas.files)\n",
    "print(loadMas2.files)\n",
    "a = loadMas[\"a\"]\n",
    "b = loadMas2[\"nameOfVar2\"]"
   ],
   "metadata": {
    "collapsed": false,
    "pycharm": {
     "name": "#%%\n"
    },
    "ExecuteTime": {
     "end_time": "2024-09-03T15:49:14.376240200Z",
     "start_time": "2024-09-03T15:49:13.517029800Z"
    }
   }
  },
  {
   "cell_type": "markdown",
   "source": [
    "### 1.6.2 Сохранение/загрузка данных в файл MatLAB (.mat)\n",
    "Для работы с файлами MatLAB нужно подключить библиотеку scipy."
   ],
   "metadata": {
    "collapsed": false,
    "pycharm": {
     "name": "#%% md\n"
    }
   }
  },
  {
   "cell_type": "code",
   "execution_count": 72,
   "outputs": [],
   "source": [
    "import scipy.io as sio"
   ],
   "metadata": {
    "collapsed": false,
    "pycharm": {
     "name": "#%%\n"
    },
    "ExecuteTime": {
     "end_time": "2024-09-03T15:49:14.376240200Z",
     "start_time": "2024-09-03T15:49:13.548279400Z"
    }
   }
  },
  {
   "cell_type": "markdown",
   "source": [
    "Сохранение данных в файл .mat осуществляется функцией savemat(), где в качестве аргументов передаются название файла и данные в виде ключ-значение"
   ],
   "metadata": {
    "collapsed": false
   }
  },
  {
   "cell_type": "code",
   "execution_count": 73,
   "outputs": [],
   "source": [
    "sio.savemat('test.mat', {'a': a})"
   ],
   "metadata": {
    "collapsed": false,
    "pycharm": {
     "name": "#%%\n"
    },
    "ExecuteTime": {
     "end_time": "2024-09-03T15:49:14.376240200Z",
     "start_time": "2024-09-03T15:49:13.563835100Z"
    }
   }
  },
  {
   "cell_type": "markdown",
   "source": [
    "Чтение файла .mat осуществляетя функцией loadmat()."
   ],
   "metadata": {
    "collapsed": false
   }
  },
  {
   "cell_type": "code",
   "execution_count": 74,
   "outputs": [],
   "source": [
    "testMat = sio.loadmat('test.mat')"
   ],
   "metadata": {
    "collapsed": false,
    "pycharm": {
     "name": "#%%\n"
    },
    "ExecuteTime": {
     "end_time": "2024-09-03T15:49:14.376240200Z",
     "start_time": "2024-09-03T15:49:13.579457400Z"
    }
   }
  },
  {
   "cell_type": "code",
   "execution_count": 75,
   "outputs": [],
   "source": [
    "a = testMat['a']"
   ],
   "metadata": {
    "collapsed": false,
    "pycharm": {
     "name": "#%%\n"
    },
    "ExecuteTime": {
     "end_time": "2024-09-03T15:49:14.376240200Z",
     "start_time": "2024-09-03T15:49:13.595081500Z"
    }
   }
  },
  {
   "cell_type": "markdown",
   "source": [],
   "metadata": {
    "collapsed": false,
    "pycharm": {
     "name": "#%% md\n"
    }
   }
  },
  {
   "cell_type": "markdown",
   "source": [
    "## 1.7 Приведение типов в NumPy\n",
    "При работе с изображениями, видео или просто с матрицами больших размеров, может требоваться точное управление типами данных. В отличие от чистого Python, который предоставляет лишь несколько числовых типов, NumPy предоставляет более широкий перечень типов.\n",
    "\n",
    "В NumPy доступны следующие типы данных:\n",
    "\n",
    "- bool_ - Логический тип (истина или ложь), хранящийся в виде байта.\n",
    "- int_ - Целочисленный тип установленный по умолчанию (такой же, как C long, как правило это либо int64 либо int32).\n",
    "- intc - Идентичен C int (int32 или int64).\n",
    "- intp - Целочисленный тип, используемый для индексирования (такой же, как C ssize_t, как правило это либо int64 либо int32).\n",
    "- int8 - Целые числа в диапазоне от -128 по 127 (числа размером 1 байт).\n",
    "- int16 - Целые числа в диапазоне от -32768 по 32767, (числа размером 2 байта).\n",
    "- int32 - Целые числа в диапазоне от -2147483648 по 2147483647, (числа размером 4 байта).\n",
    "- int64 - Целые числа в диапазоне от -9223372036854775808 по 9223372036854775807, (числа размером 8 байт).\n",
    "- uint8 - Целые числа в диапазоне от 0 по 255 (числа размером 1 байт).\n",
    "- uint16 - Целые числа в диапазоне от 0 по 65535 (числа размером 2 байта).\n",
    "- uint32 - Целые числа в диапазоне от 0 по 4294967295 (числа размером 4 байта).\n",
    "- uint64 - Целые числа в диапазоне от 0 по 18446744073709551615 (числа размером 8 байт).\n",
    "- float_ - То же самое что и float64.\n",
    "- float16 - Вещественные числа половинной точности: 1 бит знака, 5 бит экспоненты 10 бит мантисы (числа размером 2 байта).\n",
    "- float32 - Вещественные числа одинарной точности: 1 бит знака, 8 бит экспоненты 23 бита мантисы (числа размером 4 байта).\n",
    "- float64 - Вещественные числа двойной точности: 1 бит знака, 11 бит экспоненты, 52 бита мантисы (числа размером 8 байт).\n",
    "- complex_ - То же самое что и complex128.\n",
    "- complex64 - Комплексные числа в которых действительная и мнимая части представлены двумя вещественными числами типа float32.\n",
    "- complex128 - Комплексные числа в которых действительная и мнимая части представлены двумя вещественными числами типа float64.\n",
    "\n",
    "Полный перечень типов можно посмотреть, если вывести содержимое словаря np.sctypeDict."
   ],
   "metadata": {
    "collapsed": false
   }
  },
  {
   "cell_type": "code",
   "execution_count": 76,
   "outputs": [
    {
     "data": {
      "text/plain": "{'?': numpy.bool_,\n 0: numpy.bool_,\n 'byte': numpy.int8,\n 'b': numpy.int8,\n 1: numpy.int8,\n 'ubyte': numpy.uint8,\n 'B': numpy.uint8,\n 2: numpy.uint8,\n 'short': numpy.int16,\n 'h': numpy.int16,\n 3: numpy.int16,\n 'ushort': numpy.uint16,\n 'H': numpy.uint16,\n 4: numpy.uint16,\n 'i': numpy.intc,\n 5: numpy.intc,\n 'uint': numpy.uint32,\n 'I': numpy.uintc,\n 6: numpy.uintc,\n 'intp': numpy.int64,\n 'p': numpy.int64,\n 9: numpy.int64,\n 'uintp': numpy.uint64,\n 'P': numpy.uint64,\n 10: numpy.uint64,\n 'long': numpy.int32,\n 'l': numpy.int32,\n 7: numpy.int32,\n 'ulong': numpy.uint32,\n 'L': numpy.uint32,\n 8: numpy.uint32,\n 'longlong': numpy.int64,\n 'q': numpy.int64,\n 'ulonglong': numpy.uint64,\n 'Q': numpy.uint64,\n 'half': numpy.float16,\n 'e': numpy.float16,\n 23: numpy.float16,\n 'f': numpy.float32,\n 11: numpy.float32,\n 'double': numpy.float64,\n 'd': numpy.float64,\n 12: numpy.float64,\n 'longdouble': numpy.longdouble,\n 'g': numpy.longdouble,\n 13: numpy.longdouble,\n 'cfloat': numpy.complex128,\n 'F': numpy.complex64,\n 14: numpy.complex64,\n 'cdouble': numpy.complex128,\n 'D': numpy.complex128,\n 15: numpy.complex128,\n 'clongdouble': numpy.clongdouble,\n 'G': numpy.clongdouble,\n 16: numpy.clongdouble,\n 'O': numpy.object_,\n 17: numpy.object_,\n 'S': numpy.bytes_,\n 18: numpy.bytes_,\n 'unicode': numpy.str_,\n 'U': numpy.str_,\n 19: numpy.str_,\n 'void': numpy.void,\n 'V': numpy.void,\n 20: numpy.void,\n 'M': numpy.datetime64,\n 21: numpy.datetime64,\n 'm': numpy.timedelta64,\n 22: numpy.timedelta64,\n 'b1': numpy.bool_,\n 'bool8': numpy.bool_,\n 'i8': numpy.int64,\n 'int64': numpy.int64,\n 'u8': numpy.uint64,\n 'uint64': numpy.uint64,\n 'f2': numpy.float16,\n 'float16': numpy.float16,\n 'f4': numpy.float32,\n 'float32': numpy.float32,\n 'f8': numpy.float64,\n 'float64': numpy.float64,\n 'c8': numpy.complex64,\n 'complex64': numpy.complex64,\n 'c16': numpy.complex128,\n 'complex128': numpy.complex128,\n 'object0': numpy.object_,\n 'bytes0': numpy.bytes_,\n 'str0': numpy.str_,\n 'void0': numpy.void,\n 'M8': numpy.datetime64,\n 'datetime64': numpy.datetime64,\n 'm8': numpy.timedelta64,\n 'timedelta64': numpy.timedelta64,\n 'int32': numpy.int32,\n 'i4': numpy.int32,\n 'uint32': numpy.uint32,\n 'u4': numpy.uint32,\n 'int16': numpy.int16,\n 'i2': numpy.int16,\n 'uint16': numpy.uint16,\n 'u2': numpy.uint16,\n 'int8': numpy.int8,\n 'i1': numpy.int8,\n 'uint8': numpy.uint8,\n 'u1': numpy.uint8,\n 'complex_': numpy.complex128,\n 'single': numpy.float32,\n 'csingle': numpy.complex64,\n 'singlecomplex': numpy.complex64,\n 'float_': numpy.float64,\n 'intc': numpy.intc,\n 'uintc': numpy.uintc,\n 'int_': numpy.int32,\n 'longfloat': numpy.longdouble,\n 'clongfloat': numpy.clongdouble,\n 'longcomplex': numpy.clongdouble,\n 'bool_': numpy.bool_,\n 'bytes_': numpy.bytes_,\n 'string_': numpy.bytes_,\n 'str_': numpy.str_,\n 'unicode_': numpy.str_,\n 'object_': numpy.object_,\n 'int': numpy.int32,\n 'float': numpy.float64,\n 'complex': numpy.complex128,\n 'bool': numpy.bool_,\n 'object': numpy.object_,\n 'str': numpy.str_,\n 'bytes': numpy.bytes_,\n 'a': numpy.bytes_,\n 'int0': numpy.int64,\n 'uint0': numpy.uint64}"
     },
     "execution_count": 76,
     "metadata": {},
     "output_type": "execute_result"
    }
   ],
   "source": [
    "np.sctypeDict"
   ],
   "metadata": {
    "collapsed": false,
    "pycharm": {
     "name": "#%%\n"
    },
    "ExecuteTime": {
     "end_time": "2024-09-03T15:49:14.376240200Z",
     "start_time": "2024-09-03T15:49:13.610704800Z"
    }
   }
  },
  {
   "cell_type": "markdown",
   "source": [
    "Если импортировать NumPy как `import numpy as np`, то объекты типа данных становятся доступны как np.bool_, np.float64, np.int16 и т.д."
   ],
   "metadata": {
    "collapsed": false
   }
  },
  {
   "cell_type": "markdown",
   "source": [
    "Для преобразования одного типа данных в другой можно так же воспользоваться объектами типа данных:\n",
    "- np.float64(11)\n",
    "- np.int64(11)\n",
    "- np.float64([1, 2, 3])\n",
    "- np.int16([1, 2, 3])\n",
    "\n",
    "или воспользоваться методом astype():"
   ],
   "metadata": {
    "collapsed": false
   }
  },
  {
   "cell_type": "code",
   "execution_count": 77,
   "outputs": [
    {
     "data": {
      "text/plain": "array([1, 2, 3], dtype=uint8)"
     },
     "execution_count": 77,
     "metadata": {},
     "output_type": "execute_result"
    }
   ],
   "source": [
    "a = np.float64([1, 2, 3])\n",
    "a.astype(np.uint8)"
   ],
   "metadata": {
    "collapsed": false,
    "pycharm": {
     "name": "#%%\n"
    },
    "ExecuteTime": {
     "end_time": "2024-09-03T15:49:14.376240200Z",
     "start_time": "2024-09-03T15:49:13.626322300Z"
    }
   }
  },
  {
   "cell_type": "markdown",
   "source": [
    "\n",
    "Если нужна информация о каком-то конкретном типе чисел с плавающей запятой, то ее можно запросить с помощью функции finfo():\n",
    "- np.finfo(np.float64)\n",
    "- np.finfo(np.floаt)\n",
    "- np.finfo(np.float16)"
   ],
   "metadata": {
    "collapsed": false
   }
  },
  {
   "cell_type": "code",
   "execution_count": 78,
   "outputs": [
    {
     "data": {
      "text/plain": "finfo(resolution=1e-15, min=-1.7976931348623157e+308, max=1.7976931348623157e+308, dtype=float64)"
     },
     "execution_count": 78,
     "metadata": {},
     "output_type": "execute_result"
    }
   ],
   "source": [
    "np.finfo(np.float64)"
   ],
   "metadata": {
    "collapsed": false,
    "pycharm": {
     "name": "#%%\n"
    },
    "ExecuteTime": {
     "end_time": "2024-09-03T15:49:14.376240200Z",
     "start_time": "2024-09-03T15:49:13.641948900Z"
    }
   }
  },
  {
   "cell_type": "markdown",
   "source": [
    "Иногда бывает очень полезно узнать размер массива в байтах:"
   ],
   "metadata": {
    "collapsed": false
   }
  },
  {
   "cell_type": "code",
   "execution_count": 79,
   "outputs": [
    {
     "data": {
      "text/plain": "40"
     },
     "execution_count": 79,
     "metadata": {},
     "output_type": "execute_result"
    }
   ],
   "source": [
    "a = np.arange(5, dtype=np.float64)\n",
    "a\n",
    "a.size  #  Общее количество элементов в массиве\n",
    "a.itemsize  #  Размер одного элемента в байтах\n",
    "a.size * a.itemsize"
   ],
   "metadata": {
    "collapsed": false,
    "pycharm": {
     "name": "#%%\n"
    },
    "ExecuteTime": {
     "end_time": "2024-09-03T15:49:14.376240200Z",
     "start_time": "2024-09-03T15:49:13.657574500Z"
    }
   }
  },
  {
   "cell_type": "markdown",
   "source": [
    "# 2. OpenCV\n",
    "Работать с изображениями удобнее всего при помощи opencv-python. OpenCV -- реализация библиотеки алгоритмов компьютерного зрения, обработки изображений и численных алгоритмов общего назначения. opencv-python является оберткой реализации Оригинальной библиотеки OpenCV, написанной на языке C++, что делает его таким же быстрым. Все структуры массивов opencv-python (далее просто OpenCV) преобразуются в массивы Numpy и из них. Это также облегчает интеграцию с другими библиотеками, использующими Numpy, такими как SciPy и Matplotlib.\n",
    "\n",
    "OpenCV предлагает широкий набор алгоритмов и состоит из следующих модулей:\n",
    "- core -- основная функциональность. Включает в себя базовые структуры, вычисления (математические функции, генераторы случайных чисел) и линейную алгебру и пр.;\n",
    "- imgproc -- обработка изображений (фильтрация, геометрические преобразования, преобразование цветовых пространств и т. д.);\n",
    "- imgcodecs -- чтение и запись файлов изображений;\n",
    "- videoio -- чтение и запись видео или последовательности изображений;\n",
    "- highgui -- создание простого пользовательского интерфейса и обработка событий мыши и клавиатуры;\n",
    "- video -- обработка видео;\n",
    "- calib3d -- калибровка камер и 3D реконструкция;\n",
    "- features2d -- работа с особыми точками;\n",
    "- objdetect -- обнаружение объектов;\n",
    "- dnn -- глубокие нейронные сети;\n",
    "- ml -- машинное обучение;\n",
    "- stitching -- склейка изображений;\n",
    "и других.\n",
    "\n",
    "Документацию по OpenCV-Python v4.5.5 можно найти [здесь](https://docs.opencv.org/4.5.5/d6/d00/tutorial_py_root.html)\n",
    "Документация по OpenCV разных версий можно найти [здесь](https://docs.opencv.org/)"
   ],
   "metadata": {
    "collapsed": false,
    "pycharm": {
     "name": "#%% md\n"
    }
   }
  },
  {
   "cell_type": "markdown",
   "source": [
    "## 2.1 Установка и подключение opencv-python\n",
    "установку пакета opencv-python можно осуществить в терминале командой:\n",
    "pip3 install opencv-python"
   ],
   "metadata": {
    "collapsed": false
   }
  },
  {
   "cell_type": "markdown",
   "source": [
    "Подключение библиотеки:"
   ],
   "metadata": {
    "collapsed": false,
    "pycharm": {
     "name": "#%% md\n"
    }
   }
  },
  {
   "cell_type": "code",
   "execution_count": 80,
   "outputs": [],
   "source": [
    "import numpy as np\n",
    "import cv2 as cv"
   ],
   "metadata": {
    "collapsed": false,
    "pycharm": {
     "name": "#%%\n"
    },
    "ExecuteTime": {
     "end_time": "2024-09-03T15:49:14.376240200Z",
     "start_time": "2024-09-03T15:49:13.673195500Z"
    }
   }
  },
  {
   "cell_type": "markdown",
   "source": [
    "## 2.2. Загрузка и просмотр изображений"
   ],
   "metadata": {
    "collapsed": false,
    "pycharm": {
     "name": "#%% md\n"
    }
   }
  },
  {
   "cell_type": "markdown",
   "source": [],
   "metadata": {
    "collapsed": false,
    "pycharm": {
     "name": "#%% md\n"
    }
   }
  },
  {
   "cell_type": "code",
   "execution_count": 81,
   "outputs": [
    {
     "ename": "error",
     "evalue": "OpenCV(4.10.0) D:\\a\\opencv-python\\opencv-python\\opencv\\modules\\highgui\\src\\window.cpp:973: error: (-215:Assertion failed) size.width>0 && size.height>0 in function 'cv::imshow'\n",
     "output_type": "error",
     "traceback": [
      "\u001B[1;31m---------------------------------------------------------------------------\u001B[0m",
      "\u001B[1;31merror\u001B[0m                                     Traceback (most recent call last)",
      "Cell \u001B[1;32mIn[81], line 2\u001B[0m\n\u001B[0;32m      1\u001B[0m image \u001B[38;5;241m=\u001B[39m cv\u001B[38;5;241m.\u001B[39mimread(\u001B[38;5;124m'\u001B[39m\u001B[38;5;124m../images/lenna.png\u001B[39m\u001B[38;5;124m'\u001B[39m)\n\u001B[1;32m----> 2\u001B[0m \u001B[43mcv\u001B[49m\u001B[38;5;241;43m.\u001B[39;49m\u001B[43mimshow\u001B[49m\u001B[43m(\u001B[49m\u001B[38;5;124;43m\"\u001B[39;49m\u001B[38;5;124;43mImage\u001B[39;49m\u001B[38;5;124;43m\"\u001B[39;49m\u001B[43m,\u001B[49m\u001B[43m \u001B[49m\u001B[43mimage\u001B[49m\u001B[43m)\u001B[49m\n\u001B[0;32m      3\u001B[0m cv\u001B[38;5;241m.\u001B[39mwaitKey(\u001B[38;5;241m0\u001B[39m)\n\u001B[0;32m      4\u001B[0m cv\u001B[38;5;241m.\u001B[39mdestroyAllWindows()\n",
      "\u001B[1;31merror\u001B[0m: OpenCV(4.10.0) D:\\a\\opencv-python\\opencv-python\\opencv\\modules\\highgui\\src\\window.cpp:973: error: (-215:Assertion failed) size.width>0 && size.height>0 in function 'cv::imshow'\n"
     ]
    }
   ],
   "source": [
    "image = cv.imread('../images/lenna.png')\n",
    "cv.imshow(\"Image\", image)\n",
    "cv.waitKey(0)\n",
    "cv.destroyAllWindows()"
   ],
   "metadata": {
    "collapsed": false,
    "pycharm": {
     "name": "#%%\n"
    },
    "ExecuteTime": {
     "end_time": "2024-09-03T15:49:14.376240200Z",
     "start_time": "2024-09-03T15:49:13.720142400Z"
    }
   }
  },
  {
   "cell_type": "markdown",
   "source": [
    "Без операций cv.waitKey(0) и cv.destroyAllWindows() окно может закрываться не корректно."
   ],
   "metadata": {
    "collapsed": false
   }
  },
  {
   "cell_type": "markdown",
   "source": [
    "Вынесем этот код в функцию show_image() и display_image() в файл \"utility/util.py\". Подключим созданные файлы к текущему коду:"
   ],
   "metadata": {
    "collapsed": false
   }
  },
  {
   "cell_type": "code",
   "execution_count": null,
   "outputs": [],
   "source": [
    "from utility import util"
   ],
   "metadata": {
    "collapsed": false,
    "pycharm": {
     "name": "#%%\n"
    },
    "ExecuteTime": {
     "start_time": "2024-09-03T15:49:13.766929300Z"
    }
   }
  },
  {
   "cell_type": "markdown",
   "source": [
    "Еще одним способом отображения изображений является использование библиотеки matplotlib подключим ее и выведем тестовое изображение:"
   ],
   "metadata": {
    "collapsed": false,
    "pycharm": {
     "name": "#%% md\n"
    }
   }
  },
  {
   "cell_type": "code",
   "execution_count": null,
   "outputs": [],
   "source": [
    "%matplotlib inline\n",
    "import matplotlib.pyplot as plt\n",
    "\n",
    "#%matplotlib inline позволяет выводить графики matplotlib в Jupyter\n",
    "plt.imshow(image)"
   ],
   "metadata": {
    "collapsed": false,
    "pycharm": {
     "name": "#%%\n"
    },
    "ExecuteTime": {
     "start_time": "2024-09-03T15:49:13.766929300Z"
    }
   }
  },
  {
   "cell_type": "markdown",
   "source": [
    "По умолчанию, при чтении файла изображения методом cv.imread() изображение находится в цветовом пространстве не RGB (как все привыкли), а BGR, т.е. цвета идут в другом порядке. Эта особенность является причиной не корректного вывода изображения при помощи matplotlib, т.к. он выводит изображение в цветовом пространстве RGB.\n",
    "Чтобы поменять цветовое пространство на RGB можно воспользоваться методом:\n",
    "`rgb_image = cv2.cvtColor(image, cv2.COLOR_BGR2RGB)`\n",
    "\n",
    "Проверим этот факт загрузив изображение с пикселями синего цвета:"
   ],
   "metadata": {
    "collapsed": false,
    "pycharm": {
     "name": "#%% md\n"
    }
   }
  },
  {
   "cell_type": "code",
   "execution_count": null,
   "outputs": [],
   "source": [
    "blue_image = util.display_image('../images/blue_image.png')"
   ],
   "metadata": {
    "collapsed": false,
    "pycharm": {
     "name": "#%%\n"
    },
    "ExecuteTime": {
     "start_time": "2024-09-03T15:49:13.766929300Z"
    }
   }
  },
  {
   "cell_type": "markdown",
   "source": [
    "Выведем пиксел с координатами (0,0) изображения в виде массива NumPy:"
   ],
   "metadata": {
    "collapsed": false,
    "pycharm": {
     "name": "#%% md\n"
    }
   }
  },
  {
   "cell_type": "code",
   "execution_count": null,
   "outputs": [],
   "source": [
    "blue_image[0, 0, :]"
   ],
   "metadata": {
    "collapsed": false,
    "pycharm": {
     "name": "#%%\n"
    },
    "ExecuteTime": {
     "start_time": "2024-09-03T15:49:13.766929300Z"
    }
   }
  },
  {
   "cell_type": "markdown",
   "source": [
    "Действительно, пиксель имеют максимальную яркость только по первому каналу. Значит первый канал хранит синий цвет.\n",
    "Преобразуем цветовое пространство BGR в RGB:"
   ],
   "metadata": {
    "collapsed": false,
    "pycharm": {
     "name": "#%% md\n"
    }
   }
  },
  {
   "cell_type": "code",
   "execution_count": null,
   "outputs": [],
   "source": [
    "rgb_blue_image = cv.cvtColor(blue_image, cv.COLOR_BGR2RGB)\n",
    "rgb_blue_image[0, 0, :]"
   ],
   "metadata": {
    "collapsed": false,
    "pycharm": {
     "name": "#%%\n"
    },
    "ExecuteTime": {
     "start_time": "2024-09-03T15:49:13.782552700Z"
    }
   }
  },
  {
   "cell_type": "markdown",
   "source": [
    "Проделаем то же самое для тестового изображения:"
   ],
   "metadata": {
    "collapsed": false,
    "pycharm": {
     "name": "#%% md\n"
    }
   }
  },
  {
   "cell_type": "code",
   "execution_count": null,
   "outputs": [],
   "source": [
    "rgb_image = cv.cvtColor(image, cv.COLOR_BGR2RGB)\n",
    "plt.imshow(rgb_image)"
   ],
   "metadata": {
    "collapsed": false,
    "pycharm": {
     "name": "#%%\n"
    },
    "ExecuteTime": {
     "start_time": "2024-09-03T15:49:13.782552700Z"
    }
   }
  },
  {
   "cell_type": "markdown",
   "source": [
    "## 2.3. Простые операции с изображениями"
   ],
   "metadata": {
    "collapsed": false,
    "pycharm": {
     "name": "#%% md\n"
    }
   }
  },
  {
   "cell_type": "markdown",
   "source": [
    "### 2.3.1 Кадрирование или ROI\n",
    "**Кадрирование** -- усечение изображения с целью выделения объекта интереса.\n",
    "**ROI** (Region Of Interest, объект интереса) -- границы изображения объекта интереса.\n",
    "Поскольку цветное изображение является 3-х мерным массивом NumPy, то кадрировать (т.е. обрезать) такое изображение можно при помощи срезов:"
   ],
   "metadata": {
    "collapsed": false,
    "pycharm": {
     "name": "#%% md\n"
    }
   }
  },
  {
   "cell_type": "code",
   "execution_count": null,
   "outputs": [],
   "source": [
    "ROI = (182, 162, 220, 240)  #(x0, y0, height, width)\n",
    "cropped_image = rgb_image[ROI[1]:ROI[1] + ROI[3], ROI[0]:ROI[0] + ROI[2]]\n",
    "plt.imshow(cropped_image)"
   ],
   "metadata": {
    "collapsed": false,
    "pycharm": {
     "name": "#%%\n"
    },
    "ExecuteTime": {
     "start_time": "2024-09-03T15:49:13.782552700Z"
    }
   }
  },
  {
   "cell_type": "markdown",
   "source": [
    "### 2.3.2 Изменение размера изображения\n",
    "\n"
   ],
   "metadata": {
    "collapsed": false,
    "pycharm": {
     "name": "#%% md\n"
    }
   }
  },
  {
   "cell_type": "code",
   "execution_count": null,
   "outputs": [],
   "source": [
    "scale_percent = 20  # Процент от изначального размера\n",
    "width = int(rgb_image.shape[1] * scale_percent / 100)\n",
    "height = int(rgb_image.shape[0] * scale_percent / 100)\n",
    "dim = (width, height)\n",
    "resized_image = cv.resize(rgb_image, dim, interpolation=cv.INTER_AREA)\n",
    "plt.imshow(resized_image)"
   ],
   "metadata": {
    "collapsed": false,
    "pycharm": {
     "name": "#%%\n"
    },
    "ExecuteTime": {
     "start_time": "2024-09-03T15:49:13.782552700Z"
    }
   }
  },
  {
   "cell_type": "markdown",
   "source": [
    "### 2.3.3 Поворот изображения\n",
    "\n",
    "Вращение изображения – это одно из аффинных преобразований. Его удобно определять матрицей перехода. Подробнее  стоит почитать в статье [Матрица перехода — Википедия (wikipedia.org)](https://ru.wikipedia.org/wiki/Матрица_перехода). В случае вращения матрица перехода вычисляется функцией cv.getRotationMatrix2D(center, angle, scale), где center и angle – координаты центра и угол вращения, а scale – коэффициент масштабирования. Справку по вращению изображений и другим геометрическим трансформациям можно посмотреть в [документации](https://docs.opencv.org/3.4/da/d54/group__imgproc__transform.html)"
   ],
   "metadata": {
    "collapsed": false,
    "pycharm": {
     "name": "#%% md\n"
    }
   }
  },
  {
   "cell_type": "code",
   "execution_count": null,
   "outputs": [],
   "source": [
    "(h, w, d) = rgb_image.shape\n",
    "angle = 45\n",
    "scale = 1.0\n",
    "center = (w // 2, h // 2)\n",
    "M = cv.getRotationMatrix2D(center, angle, scale)\n",
    "rotated = cv.warpAffine(rgb_image, M, (w, h))\n",
    "plt.imshow(rotated)"
   ],
   "metadata": {
    "collapsed": false,
    "pycharm": {
     "name": "#%%\n"
    },
    "ExecuteTime": {
     "start_time": "2024-09-03T15:49:13.782552700Z"
    }
   }
  },
  {
   "cell_type": "markdown",
   "source": [
    "### 2.3.4 Рисование примитивов на изображении:\n",
    "- cv.line(image, startPoint, endPoint, rgb_color, thickness)\n",
    "- cv.rectangle(image, topLeft, bottomRight, rgb_color, thickness)\n",
    "- cv.circle(image, center, radius, rgb_color, thickness)\n",
    "- cv.ellipse(image, center, axes, angle, startAngle, endAngle, rgb_color, thickness)\n",
    "\n",
    "где:\n",
    "- image -- изображение\n",
    "- startPoint, endPoint -- координаты начальной и конечной точек;\n",
    "- rgb_color -- код цвета в формате rgb координат (red, green, blue). red, green, blue ∈ [0, 255];\n",
    "- thickness -- толщина линии в пикселях;\n",
    "- center -- координаты центра окружности или эллипса;\n",
    "- topLeft, bottomRight -- координаты верхней левой и нижней правой точек прямоугольника, соответственно."
   ],
   "metadata": {
    "collapsed": false
   }
  },
  {
   "cell_type": "code",
   "execution_count": null,
   "outputs": [],
   "source": [
    "copy_image = rgb_image.copy()\n",
    "\n",
    "# рисование линии\n",
    "cv.line(copy_image, (0, 0), (511, 511), (255, 0, 0), 5)\n",
    "# => Diagonal red line with thickness of 5 px\n",
    "\n",
    "# Draw a rectangle using cv2.rectangle(image, topLeft, bottomRight, rgb, thinkness)\n",
    "cv.rectangle(copy_image, (384, 0), (510, 128), (0, 255, 0), 3)\n",
    "# => Green rectangle with thickness of 3 px\n",
    "\n",
    "# Draw a circle using cv2.circle(image, center, radius, rgb, thinkness)\n",
    "cv.circle(copy_image, (447, 63), 63, (0, 0, 255), -1)\n",
    "# => Blue filled circle(note that the thinkness is -1)\n",
    "\n",
    "# Draw a ellipse using cv2.ellipse(image, center, axes, angle, startAngle, endAngle, rgb, thinkness)\n",
    "cv.ellipse(copy_image, (256, 256), (100, 50), -45, 0, 180, (255, 0, 0), -1)\n",
    "# => Red wide down-half ellipse\n",
    "\n",
    "plt.imshow(copy_image)"
   ],
   "metadata": {
    "collapsed": false,
    "pycharm": {
     "name": "#%%\n"
    },
    "ExecuteTime": {
     "start_time": "2024-09-03T15:49:13.782552700Z"
    }
   }
  },
  {
   "cell_type": "markdown",
   "source": [
    "### 2.3.5 Наложение текста на изображение"
   ],
   "metadata": {
    "collapsed": false,
    "pycharm": {
     "name": "#%% md\n"
    }
   }
  },
  {
   "cell_type": "code",
   "execution_count": null,
   "outputs": [],
   "source": [
    "# Put some text using cv2.putText(image, text, bottomLeft, fontType, fontScale, rgb, thinkness, lineType)\n",
    "copy_image = rgb_image.copy()\n",
    "font = cv.FONT_HERSHEY_COMPLEX\n",
    "cv.putText(rgb_image, 'OpenCV', (10, 500), font, 4, (255, 255, 255), 10, cv.LINE_AA)\n",
    "# => White 'OpenCV' text at the bottom\n",
    "\n",
    "plt.imshow(rgb_image)"
   ],
   "metadata": {
    "collapsed": false,
    "pycharm": {
     "name": "#%%\n"
    },
    "ExecuteTime": {
     "start_time": "2024-09-03T15:49:13.798176200Z"
    }
   }
  },
  {
   "cell_type": "markdown",
   "source": [
    "## 2.4 Цветовые модели\n",
    "\n",
    "Цветные цифровые изображения представляют собой совокупность трех цветовых плоскостей, каждая из которых характеризует одну независимую составляющую цвета, представленную в том же формате, что и обычное 8-битное полутоновое изображение."
   ],
   "metadata": {
    "collapsed": false
   }
  },
  {
   "cell_type": "markdown",
   "source": [
    "### 2.4.1 Цветовая модель RGB\n",
    "\n",
    "RGB (Red, Green, Blue - красный, зеленый, синий) - цветовая модель, описывающая способ кодирования цвета для цветовоспроизведения с помощью трёх цветов, которые принято называть основными. Выбор основных цветов обусловлен особенностями физиологии восприятия цвета сетчаткой человеческого глаза. Сетчатка глаза имеет три вида рецепторов (колбочек), ответственных за цветное зрение. Можно считать, что каждый вид колбочек даёт свой отклик на определённую длину волны видимого спектра.\n",
    " Система координат RGB - куб с началом отсчета ⟨0,0,0⟩, соответствующим черному цвету. Максимальное значение RGB - ⟨255,255,255⟩ соответствует белому цвету.\n",
    "\n",
    "<img src=\"../content/RGB_color_cube.png\" width=\"800\"/>\n",
    "\n",
    "В модели RGB не разделены яркостная и оттеночная компоненты цвета, здесь легко указать яркости для одного из основных цветов, но затруднительно указать оттенок с требуемым цветовым тоном (например, телесным) и насыщенностью."
   ],
   "metadata": {
    "collapsed": false
   }
  },
  {
   "cell_type": "markdown",
   "source": [
    "### 2.4.2 Цветовые модели HSV и HSI\n",
    "\n",
    " Цветовая модель HSV (Hue, Saturation, Value - цветовой тон, насыщенность, мера яркости) - модель, ориентированная на человека и обеспечивающая возможность явного задания требуемого оттенка цвета. Среди прочих используемых в настоящее время моделей, эта модель отражает физические свойства цвета и наиболее точно соответствует способу восприятия цвета человеческим глазом.\n",
    " Оттенок цвета (H) - это длина световой волны, отраженной или прошедшей через объект. Насыщенность (S) характеризует степень, уровень выражения оттенка цвета. Она определяет соотношение серого цвета и выбранного оттенка и выражается в долях от 0 (серый) до 1 (полностью насыщенный). Мера яркости (V) характеризует интенсивность цвета, поэтому она измеряется в диапазоне от 0 (черный) до 1 (белый). При увеличении яркости цвет становится более светлым (белым). Составляющая V является нелинейной, что близко соответствует восприятию человеком светлых и темных цветов.\n",
    "\n",
    "<img src=\"../content/HSV-color-visualization.png\" width=\"300\"/>\n",
    "\n",
    "С точки зрения обработки изображений цветовое пространство удобно тем, что позволяет непосредственно оперировать интенсивностью (яркостью) и цветом (тоном) пикселя.\n",
    "\n",
    "Существует также цветовая модель HSL (hue, saturation, lightness) или HSI (hue, saturation, intensity) , которая строится по такому же принципу, что и модель HSV, но отличающаяся кодированием цвета пикселя и, соответственно, формулами преобразования из цветового пространства RGB в HSI/HSV и обратно.\n",
    "\n",
    "**HSV vs. HSL**\n",
    "Представление **HSL** моделирует то, как различные краски смешиваются вместе, чтобы создать цвет в реальном мире. Полностью насыщенные цвета размещаются вокруг круга при значении светлоты 1/2, при этом значение светлоты 0 или 1 соответствует полностью черному или белому соответственно. Между тем, представление HSV моделирует, как цвета появляются при свете. Разница между HSL и HSV заключается в том, что цвет с максимальной светлотой в HSL является чисто белым, но цвет с максимальным значением / яркостью в HSV аналогичен освещению белого света на цветном объекте (например, яркое белый свет на красный объект заставляет объект по-прежнему казаться красным, просто ярче и интенсивнее, в то время как тусклый свет на красный объект заставляет объект казаться темнее и менее ярким).\n",
    "\n",
    "Наглядно разницу между HSV и HSL можно увидеть на изображениях визуализации цветовых пространств:\n",
    "\n",
    "<img src=\"../content/HSL vs HSV.png\" width=\"600\"/>\n",
    "\n",
    "Подробнее про различия HSL и HSV моделей можно прочитать [здесь](https://en.wikipedia.org/wiki/HSL_and_HSV)\n",
    "\n",
    "Алгоритмы преобразования из RGB в HSV и наоборот можно посмотреть [здесь](https://ru.wikipedia.org/wiki/HSV_(%D1%86%D0%B2%D0%B5%D1%82%D0%BE%D0%B2%D0%B0%D1%8F_%D0%BC%D0%BE%D0%B4%D0%B5%D0%BB%D1%8C))\n",
    "\n",
    "Алгоритмы преобразования из RGB в HSL и наоборот можно посмотеть [здесь](https://ru.wikipedia.org/wiki/HSL)\n",
    "\n",
    "**В OpenCV есть готовый метод преобразования изображений из одних цветовых моделей в другие:**\n",
    "`cv.cvtColor(image, ColorConversionType)`\n",
    "Где ColorConversionType - тип преобразования из одной цветовой модели в другую:\n",
    "cv.COLOR_BGR2RGB - преобразование из BGR в RGB\n",
    "cv.COLOR_RGB2BGR - преобразование из RGB в BGR\n",
    "cv.COLOR_BGR2GRAY - преобразование из BGR в GRAY\n",
    "cv.COLOR_RGB2GRAY - преобразование из RGB в GRAY\n",
    "cv.COLOR_GRAY2RGB - преобразование из GRA в RGB\n",
    "cv.COLOR_GRAY2BGR - преобразование из GRA в BGR\n",
    "cv.COLOR_HSV2RGB - преобразование из HSV в RGB\n",
    "cv.COLOR_HLS2RGB - преобразование из HLS в RGB\n",
    "cv.COLOR_RGB2HSV - преобразование из RGB в HSV\n",
    "cv.COLOR_RGB2HLS - преобразование из RGB в HLS\n",
    "\n",
    "Полный список типов конвертации можно посмотреть в [документации](https://docs.opencv.org/3.4/d8/d01/group__imgproc__color__conversions.html)"
   ],
   "metadata": {
    "collapsed": false,
    "pycharm": {
     "name": "#%% md\n"
    }
   }
  }
 ],
 "metadata": {
  "kernelspec": {
   "display_name": "Python 3 (ipykernel)",
   "language": "python",
   "name": "python3"
  },
  "language_info": {
   "codemirror_mode": {
    "name": "ipython",
    "version": 3
   },
   "file_extension": ".py",
   "mimetype": "text/x-python",
   "name": "python",
   "nbconvert_exporter": "python",
   "pygments_lexer": "ipython3",
   "version": "3.10.0"
  }
 },
 "nbformat": 4,
 "nbformat_minor": 1
}
